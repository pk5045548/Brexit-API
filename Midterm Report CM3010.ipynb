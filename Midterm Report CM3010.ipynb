{
 "cells": [
  {
   "cell_type": "markdown",
   "id": "44aa0628",
   "metadata": {},
   "source": [
    "# On Overwelming Housing Inflation in the United KIngdom - Brexit and Immigration\n",
    "\n",
    "## July 2024\n"
   ]
  },
  {
   "cell_type": "markdown",
   "id": "35d2236c",
   "metadata": {},
   "source": [
    "# Introduction\n",
    "As the British economy is plummeted further by a global recession in western countries that has hit other G7 countries such as Japan and Germany, it has become a source of great concern that basic housing shelter has become more unaffordable to most people. Economists and policymakers are constantly scrambling to find the root cause of overwelming inflation, of trouble to an island nation with such densely packed population centers; with some blaming the exit from the EU and overacceptance of immigrants and refugees. It is become necessary as a researcher to analyze the relevant data to determine if these aforementioned factors are indeed at fault or if another conclusion can be reached.\n",
    "\n",
    "\n",
    "Shareable Lab Link: "
   ]
  },
  {
   "cell_type": "markdown",
   "id": "be665794",
   "metadata": {},
   "source": [
    "# Stage 1 - Explore and Dissect a Dataset\n",
    "\n",
    "## UK House Price Index\n",
    "\n",
    "Source: https://www.gov.uk/government/statistical-data-sets/uk-house-price-index-data-downloads-february-2024#contents\n",
    "\n",
    "This particular table is sourced from the ”HM Land Registry” bureau where is hosted on the UK government's website. \n",
    "The source of this data can be an official and primary source of information and is therefore very reliable. \n",
    "The HKI is recorded up to 1995 for England and Wales, 2004 for Scotland, and 2005 for Northern Ireland which means that not all entires are uniform.\n",
    "\n",
    "The file is stored in the .csv format, so data will be easy to extract. However, while there is a detailed amount of information on housing prices listed; some parameters are only used in certain jurisdictions due to varying governance in the United Kingdom. This includes differences within provinces in England, not just between different entities that are a part of the United Kingdom.\n",
    "\n",
    "## Long Term International Migration\n",
    "\n",
    "Source: https://www.ons.gov.uk/peoplepopulationandcommunity/populationandmigration/internationalmigration/datasets/longterminternationalimmigrationemigrationandnetmigrationflowsprovisional\n",
    "\n",
    "Another government source, produced by the Office of National Statistics, will be used for this study. This will allow us to measure when immigration has increased the most in the UK. This table's data starts at June 2013 and is updated to June 2023. All migrations into and out of the country are recorded as well as if they are a UK national or not. \n",
    "\n",
    "The data is stored as an excel file so we may have to reformat it import it into the database. There are also multiple tables in this file, so we will also need to join these tables within our database. The use of foreign keys will also be neccessary since some tables sort migrants by nationality while others do so by migration purposes (i/e work and academia).\n",
    "\n",
    "## Database Formatting Over Spreadsheet Formatting\n",
    "\n",
    "A database format rather than spreadsheet is superoir for several reasons. The house price records are unorganized and messy to read as a raw csv format. We can make them more legible and organized by using foreign keys to seperate them into different tables per parameter.\n",
    "While the Long Term Migration is formatted as multiple different tables, most tables are just continuations of the prior list.\n",
    "Therefore by compiling into one database, we can make a more concise format in which to read the data with interactive sortability. It is also worth mentioning that this dataset for both house price data, and migration data will increase in the future. Through our database format, it will be easy to update it to reflect new information being released.\n",
    "\n",
    "## Research Area Focus\n",
    "\n",
    "There are several subjects I wish to uncover\n",
    "\n",
    "•\tHas the price index of houses increased or decreased due to Brexit?\n",
    "\n",
    "•\tAre spikes in immigration and house prices related in any way?\n",
    "\n",
    "•\tAre certain jurisdictions of the country affected by inflation in the same way or differently?\n",
    "\n",
    "•\tCan the cause of housing inflation really be reducted to Brexit and increased immigration or is there something else that is responsible\n"
   ]
  },
  {
   "cell_type": "markdown",
   "id": "a5d68421",
   "metadata": {},
   "source": [
    "# Stage 2 - Model Your Data\n",
    "\n",
    "## ER Model\n",
    "\n"
   ]
  },
  {
   "cell_type": "markdown",
   "id": "35657575",
   "metadata": {},
   "source": [
    "# Stage 3 - Create the Database"
   ]
  },
  {
   "cell_type": "code",
   "execution_count": 2,
   "id": "80cf3559",
   "metadata": {},
   "outputs": [
    {
     "ename": "SyntaxError",
     "evalue": "invalid syntax (1481654470.py, line 1)",
     "output_type": "error",
     "traceback": [
      "\u001b[1;36m  Cell \u001b[1;32mIn[2], line 1\u001b[1;36m\u001b[0m\n\u001b[1;33m    -- Create the database itself\u001b[0m\n\u001b[1;37m              ^\u001b[0m\n\u001b[1;31mSyntaxError\u001b[0m\u001b[1;31m:\u001b[0m invalid syntax\n"
     ]
    }
   ],
   "source": [
    "-- Create the database itself\n",
    "CREATE DATABASE house_infaltion; \n"
   ]
  },
  {
   "cell_type": "code",
   "execution_count": null,
   "id": "039acdd3",
   "metadata": {},
   "outputs": [],
   "source": [
    "List all the create commands used to build the database"
   ]
  },
  {
   "cell_type": "code",
   "execution_count": null,
   "id": "98ecff36",
   "metadata": {},
   "outputs": [],
   "source": [
    "-- Create the cases table\n",
    "CREATE TABLE cases ( id INT PRIMARY KEY AUTO_INCREMENT, town VARCHAR(255), state VARCHAR(2), location_id INT, date DATE, type VARCHAR(255), fatalities INT, injured INT,\n",
    "FOREIGN KEY (state) REFERENCES states (\n",
    ",→ abbreviation),\n",
    "FOREIGN KEY (location_id) REFERENCES locations ( ,→ id)\n",
    ");\n"
   ]
  },
  {
   "cell_type": "code",
   "execution_count": null,
   "id": "07e0709e",
   "metadata": {},
   "outputs": [],
   "source": [
    "-- Create the cases table\n",
    "CREATE TABLE cases ( id INT PRIMARY KEY AUTO_INCREMENT, town VARCHAR(255), state VARCHAR(2), location_id INT, date DATE, type VARCHAR(255), fatalities INT, injured INT,\n",
    "FOREIGN KEY (state) REFERENCES states (\n",
    ",→ abbreviation),\n",
    "FOREIGN KEY (location_id) REFERENCES locations ( ,→ id)\n",
    ");\n",
    "\n",
    "-- Create the locations table\n",
    "CREATE TABLE locations ( location_id INT AUTO_INCREMENT location_name VARCHAR(255)\n",
    ");\tPRIMARY KEY,\n",
    "\n"
   ]
  }
 ],
 "metadata": {
  "kernelspec": {
   "display_name": "Python 3 (ipykernel)",
   "language": "python",
   "name": "python3"
  },
  "language_info": {
   "codemirror_mode": {
    "name": "ipython",
    "version": 3
   },
   "file_extension": ".py",
   "mimetype": "text/x-python",
   "name": "python",
   "nbconvert_exporter": "python",
   "pygments_lexer": "ipython3",
   "version": "3.10.9"
  }
 },
 "nbformat": 4,
 "nbformat_minor": 5
}
